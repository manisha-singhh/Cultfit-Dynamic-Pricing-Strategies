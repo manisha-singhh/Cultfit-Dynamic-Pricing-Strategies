{
 "cells": [
  {
   "cell_type": "code",
   "execution_count": 1,
   "id": "8644ddb5",
   "metadata": {},
   "outputs": [
    {
     "name": "stdout",
     "output_type": "stream",
     "text": [
      "Welcome to your Cult.fit Data Cleaning Notebook!\n"
     ]
    }
   ],
   "source": [
    "print(\"Welcome to your Cult.fit Data Cleaning Notebook!\")"
   ]
  },
  {
   "cell_type": "code",
   "execution_count": 2,
   "id": "a3bf2a0e",
   "metadata": {},
   "outputs": [],
   "source": [
    "# Import Libraries\n",
    "import pandas as pd\n",
    "import numpy as np"
   ]
  },
  {
   "cell_type": "code",
   "execution_count": 3,
   "id": "d0a5a302",
   "metadata": {},
   "outputs": [],
   "source": [
    "#Read the CSV Files\n",
    "df_april_may = pd.read_csv(\"Classes April-May 2018.csv\")\n",
    "df_june = pd.read_csv(\"Classes June 2018.csv\")"
   ]
  },
  {
   "cell_type": "code",
   "execution_count": 4,
   "id": "5dde08bc",
   "metadata": {},
   "outputs": [
    {
     "name": "stdout",
     "output_type": "stream",
     "text": [
      "<class 'pandas.core.frame.DataFrame'>\n",
      "RangeIndex: 2177 entries, 0 to 2176\n",
      "Data columns (total 7 columns):\n",
      " #   Column                                   Non-Null Count  Dtype  \n",
      "---  ------                                   --------------  -----  \n",
      " 0   ActivitySiteID                           2177 non-null   object \n",
      " 1   ActivityDescription                      2177 non-null   object \n",
      " 2   BookingEndDateTime (Month / Day / Year)  2177 non-null   object \n",
      " 3   BookingStartTime                         2177 non-null   object \n",
      " 4   MaxBookees                               2177 non-null   int64  \n",
      " 5   Number Booked                            2177 non-null   int64  \n",
      " 6   Price (INR)                              2159 non-null   float64\n",
      "dtypes: float64(1), int64(2), object(4)\n",
      "memory usage: 119.2+ KB\n",
      "None\n",
      "     ActivitySiteID     ActivityDescription  \\\n",
      "0               BRP  20:20:20  9.30-10.30am   \n",
      "1               BRP  20:20:20  9.30-10.30am   \n",
      "2               BRP  20:20:20  9.30-10.30am   \n",
      "3               BRP  20:20:20  9.30-10.30am   \n",
      "4               BRP  20:20:20  9.30-10.30am   \n",
      "...             ...                     ...   \n",
      "1107            TSC      Zumba  6.30-7.30pm   \n",
      "1108            TSC      Zumba  6.30-7.30pm   \n",
      "1109            TSC           Zumba - 6-7pm   \n",
      "1110            TSC           Zumba - 6-7pm   \n",
      "1111            TSC           Zumba - 6-7pm   \n",
      "\n",
      "     BookingEndDateTime (Month / Day / Year) BookingStartTime  MaxBookees  \\\n",
      "0                                  01-Jun-18          9:30:00          35   \n",
      "1                                  08-Jun-18          9:30:00          35   \n",
      "2                                  15-Jun-18          9:30:00          35   \n",
      "3                                  22-Jun-18          9:30:00          35   \n",
      "4                                  29-Jun-18          9:30:00          35   \n",
      "...                                      ...              ...         ...   \n",
      "1107                               18-Jun-18         18:30:00          18   \n",
      "1108                               25-Jun-18         18:30:00          18   \n",
      "1109                               07-Jun-18         18:00:00          50   \n",
      "1110                               14-Jun-18         18:00:00          50   \n",
      "1111                               21-Jun-18         18:00:00          50   \n",
      "\n",
      "      Number Booked  Price (INR)  \n",
      "0                28          499  \n",
      "1                35          499  \n",
      "2                31          499  \n",
      "3                32          499  \n",
      "4                19          499  \n",
      "...             ...          ...  \n",
      "1107              9         1299  \n",
      "1108              9         1299  \n",
      "1109             16         1299  \n",
      "1110             13         1299  \n",
      "1111             12         1299  \n",
      "\n",
      "[1112 rows x 7 columns]\n"
     ]
    }
   ],
   "source": [
    "# View the first few rows\n",
    "print(df_april_may.info())\n",
    "print(df_june)"
   ]
  },
  {
   "cell_type": "code",
   "execution_count": 5,
   "id": "a0bf6335",
   "metadata": {},
   "outputs": [
    {
     "name": "stdout",
     "output_type": "stream",
     "text": [
      "<class 'pandas.core.frame.DataFrame'>\n",
      "RangeIndex: 3289 entries, 0 to 3288\n",
      "Data columns (total 7 columns):\n",
      " #   Column                                   Non-Null Count  Dtype  \n",
      "---  ------                                   --------------  -----  \n",
      " 0   ActivitySiteID                           3289 non-null   object \n",
      " 1   ActivityDescription                      3289 non-null   object \n",
      " 2   BookingEndDateTime (Month / Day / Year)  3289 non-null   object \n",
      " 3   BookingStartTime                         3289 non-null   object \n",
      " 4   MaxBookees                               3289 non-null   int64  \n",
      " 5   Number Booked                            3289 non-null   int64  \n",
      " 6   Price (INR)                              3271 non-null   float64\n",
      "dtypes: float64(1), int64(2), object(4)\n",
      "memory usage: 180.0+ KB\n"
     ]
    }
   ],
   "source": [
    "# Combine both datasets into one\n",
    "df = pd.concat([df_april_may, df_june], ignore_index=True)\n",
    "\n",
    "# Check basic info\n",
    "df.info()"
   ]
  },
  {
   "cell_type": "code",
   "execution_count": 6,
   "id": "f8a69551",
   "metadata": {},
   "outputs": [
    {
     "name": "stdout",
     "output_type": "stream",
     "text": [
      "ActivitySiteID                             0.000000\n",
      "ActivityDescription                        0.000000\n",
      "BookingEndDateTime (Month / Day / Year)    0.000000\n",
      "BookingStartTime                           0.000000\n",
      "MaxBookees                                 0.000000\n",
      "Number Booked                              0.000000\n",
      "Price (INR)                                0.547279\n",
      "dtype: float64\n",
      "ActivitySiteID                             0\n",
      "ActivityDescription                        0\n",
      "BookingEndDateTime (Month / Day / Year)    0\n",
      "BookingStartTime                           0\n",
      "MaxBookees                                 0\n",
      "Number Booked                              0\n",
      "Price (INR)                                0\n",
      "dtype: int64\n"
     ]
    }
   ],
   "source": [
    "# To Check missing values \n",
    "Missing_data = df.isnull().mean() * 100\n",
    "print(Missing_data )\n",
    "\n",
    "#bRemove Duplicates if any present\n",
    "df.drop_duplicates(inplace=True)\n",
    "\n",
    "#Drop rows where Price (INR) is missing\n",
    "df = df.dropna(subset = ['Price (INR)'])\n",
    "\n",
    "# Confirm no missing values left\n",
    "print(df.isnull().sum())"
   ]
  },
  {
   "cell_type": "code",
   "execution_count": 7,
   "id": "82d924c7",
   "metadata": {},
   "outputs": [],
   "source": [
    "# Clean Columns Names\n",
    "\n",
    "# Remove extra space from column names\n",
    "df.columns = df.columns.str.strip()\n",
    "\n",
    "# Convert booking date to datetime format\n",
    "df['BookingEndDateTime'] = pd.to_datetime(\n",
    "    df['BookingEndDateTime (Month / Day / Year)'],\n",
    "    format='%d-%b-%y',\n",
    "    errors='coerce')\n",
    "\n",
    "# Create new date features\n",
    "df['DateOfWeek'] = df['BookingEndDateTime'].dt.day_name()\n",
    "df['Month'] = df['BookingEndDateTime'].dt.month\n",
    "df['Week'] = df['BookingEndDateTime'].dt.isocalendar().week"
   ]
  },
  {
   "cell_type": "code",
   "execution_count": 8,
   "id": "9c9fca86",
   "metadata": {},
   "outputs": [],
   "source": [
    "# Create Occupancy Rate to Measures how full a class is\n",
    "df['OccupancyRate'] = df['Number Booked'] / df['MaxBookees']\n",
    "df['OccupancyRate'] = df['OccupancyRate'].round(2)"
   ]
  },
  {
   "cell_type": "code",
   "execution_count": 9,
   "id": "49ac903c",
   "metadata": {},
   "outputs": [],
   "source": [
    "# Save cleaned data to CSV\n",
    "df.to_csv(\"Cleaned_Data_FitnessClasses.csv\", index=False)"
   ]
  },
  {
   "cell_type": "code",
   "execution_count": 10,
   "id": "196b4435",
   "metadata": {},
   "outputs": [
    {
     "data": {
      "text/html": [
       "<div>\n",
       "<style scoped>\n",
       "    .dataframe tbody tr th:only-of-type {\n",
       "        vertical-align: middle;\n",
       "    }\n",
       "\n",
       "    .dataframe tbody tr th {\n",
       "        vertical-align: top;\n",
       "    }\n",
       "\n",
       "    .dataframe thead th {\n",
       "        text-align: right;\n",
       "    }\n",
       "</style>\n",
       "<table border=\"1\" class=\"dataframe\">\n",
       "  <thead>\n",
       "    <tr style=\"text-align: right;\">\n",
       "      <th></th>\n",
       "      <th>ActivitySiteID</th>\n",
       "      <th>ActivityDescription</th>\n",
       "      <th>BookingEndDateTime (Month / Day / Year)</th>\n",
       "      <th>BookingStartTime</th>\n",
       "      <th>MaxBookees</th>\n",
       "      <th>Number Booked</th>\n",
       "      <th>Price (INR)</th>\n",
       "      <th>BookingEndDateTime</th>\n",
       "      <th>DateOfWeek</th>\n",
       "      <th>Month</th>\n",
       "      <th>Week</th>\n",
       "      <th>OccupancyRate</th>\n",
       "    </tr>\n",
       "  </thead>\n",
       "  <tbody>\n",
       "    <tr>\n",
       "      <th>0</th>\n",
       "      <td>HXP</td>\n",
       "      <td>20-20-20  2.45pm-3.45pm</td>\n",
       "      <td>08-Apr-18</td>\n",
       "      <td>14:45:00</td>\n",
       "      <td>25</td>\n",
       "      <td>12</td>\n",
       "      <td>499.0</td>\n",
       "      <td>2018-04-08</td>\n",
       "      <td>Sunday</td>\n",
       "      <td>4</td>\n",
       "      <td>14</td>\n",
       "      <td>0.48</td>\n",
       "    </tr>\n",
       "    <tr>\n",
       "      <th>1</th>\n",
       "      <td>HXP</td>\n",
       "      <td>20-20-20  2.45pm-3.45pm</td>\n",
       "      <td>15-Apr-18</td>\n",
       "      <td>14:45:00</td>\n",
       "      <td>25</td>\n",
       "      <td>15</td>\n",
       "      <td>499.0</td>\n",
       "      <td>2018-04-15</td>\n",
       "      <td>Sunday</td>\n",
       "      <td>4</td>\n",
       "      <td>15</td>\n",
       "      <td>0.60</td>\n",
       "    </tr>\n",
       "    <tr>\n",
       "      <th>2</th>\n",
       "      <td>HXP</td>\n",
       "      <td>20-20-20  2.45pm-3.45pm</td>\n",
       "      <td>22-Apr-18</td>\n",
       "      <td>14:45:00</td>\n",
       "      <td>25</td>\n",
       "      <td>14</td>\n",
       "      <td>499.0</td>\n",
       "      <td>2018-04-22</td>\n",
       "      <td>Sunday</td>\n",
       "      <td>4</td>\n",
       "      <td>16</td>\n",
       "      <td>0.56</td>\n",
       "    </tr>\n",
       "    <tr>\n",
       "      <th>3</th>\n",
       "      <td>HXP</td>\n",
       "      <td>20-20-20  2.45pm-3.45pm</td>\n",
       "      <td>29-Apr-18</td>\n",
       "      <td>14:45:00</td>\n",
       "      <td>25</td>\n",
       "      <td>9</td>\n",
       "      <td>499.0</td>\n",
       "      <td>2018-04-29</td>\n",
       "      <td>Sunday</td>\n",
       "      <td>4</td>\n",
       "      <td>17</td>\n",
       "      <td>0.36</td>\n",
       "    </tr>\n",
       "    <tr>\n",
       "      <th>4</th>\n",
       "      <td>HXP</td>\n",
       "      <td>20-20-20  2.45pm-3.45pm</td>\n",
       "      <td>06-May-18</td>\n",
       "      <td>14:45:00</td>\n",
       "      <td>25</td>\n",
       "      <td>7</td>\n",
       "      <td>499.0</td>\n",
       "      <td>2018-05-06</td>\n",
       "      <td>Sunday</td>\n",
       "      <td>5</td>\n",
       "      <td>18</td>\n",
       "      <td>0.28</td>\n",
       "    </tr>\n",
       "  </tbody>\n",
       "</table>\n",
       "</div>"
      ],
      "text/plain": [
       "  ActivitySiteID      ActivityDescription  \\\n",
       "0            HXP  20-20-20  2.45pm-3.45pm   \n",
       "1            HXP  20-20-20  2.45pm-3.45pm   \n",
       "2            HXP  20-20-20  2.45pm-3.45pm   \n",
       "3            HXP  20-20-20  2.45pm-3.45pm   \n",
       "4            HXP  20-20-20  2.45pm-3.45pm   \n",
       "\n",
       "  BookingEndDateTime (Month / Day / Year) BookingStartTime  MaxBookees  \\\n",
       "0                               08-Apr-18         14:45:00          25   \n",
       "1                               15-Apr-18         14:45:00          25   \n",
       "2                               22-Apr-18         14:45:00          25   \n",
       "3                               29-Apr-18         14:45:00          25   \n",
       "4                               06-May-18         14:45:00          25   \n",
       "\n",
       "   Number Booked  Price (INR) BookingEndDateTime DateOfWeek  Month  Week  \\\n",
       "0             12        499.0         2018-04-08     Sunday      4    14   \n",
       "1             15        499.0         2018-04-15     Sunday      4    15   \n",
       "2             14        499.0         2018-04-22     Sunday      4    16   \n",
       "3              9        499.0         2018-04-29     Sunday      4    17   \n",
       "4              7        499.0         2018-05-06     Sunday      5    18   \n",
       "\n",
       "   OccupancyRate  \n",
       "0           0.48  \n",
       "1           0.60  \n",
       "2           0.56  \n",
       "3           0.36  \n",
       "4           0.28  "
      ]
     },
     "execution_count": 10,
     "metadata": {},
     "output_type": "execute_result"
    }
   ],
   "source": [
    "df.head()"
   ]
  },
  {
   "cell_type": "code",
   "execution_count": null,
   "id": "018af206",
   "metadata": {},
   "outputs": [],
   "source": []
  }
 ],
 "metadata": {
  "kernelspec": {
   "display_name": "Python 3 (ipykernel)",
   "language": "python",
   "name": "python3"
  },
  "language_info": {
   "codemirror_mode": {
    "name": "ipython",
    "version": 3
   },
   "file_extension": ".py",
   "mimetype": "text/x-python",
   "name": "python",
   "nbconvert_exporter": "python",
   "pygments_lexer": "ipython3",
   "version": "3.11.7"
  }
 },
 "nbformat": 4,
 "nbformat_minor": 5
}
